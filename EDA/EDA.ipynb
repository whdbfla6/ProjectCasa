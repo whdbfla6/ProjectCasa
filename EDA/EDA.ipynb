{
 "cells": [
  {
   "cell_type": "code",
   "execution_count": 1,
   "metadata": {
    "colab": {},
    "colab_type": "code",
    "id": "sI5rPw0bek7h"
   },
   "outputs": [],
   "source": [
    "import pandas as pd\n",
    "import json\n",
    "import psycopg2\n",
    "import numpy as np\n",
    "import matplotlib.pyplot as plt\n",
    "import seaborn as sns\n",
    "\n",
    "%matplotlib inline"
   ]
  },
  {
   "cell_type": "code",
   "execution_count": 2,
   "metadata": {},
   "outputs": [],
   "source": [
    "import warnings\n",
    "warnings.filterwarnings('ignore')"
   ]
  },
  {
   "cell_type": "code",
   "execution_count": 3,
   "metadata": {
    "colab": {},
    "colab_type": "code",
    "id": "49mZdVQ_e7DZ"
   },
   "outputs": [],
   "source": [
    "def call_df(table_name):\n",
    "    with open('config.json', 'r') as f:\n",
    "        config = json.load(f)\n",
    "        \n",
    "    conn = psycopg2.connect(user = config['USER'],\n",
    "                              password = config['PASSWORD'],\n",
    "                              host = config['HOST'],\n",
    "                              port = config['PORT'],\n",
    "                              database = config['DATABASE'])\n",
    "    \n",
    "    sql = f'SELECT * FROM {table_name}'\n",
    "    df = pd.read_sql_query(sql, conn)\n",
    "    conn.close()\n",
    "    return df"
   ]
  },
  {
   "cell_type": "code",
   "execution_count": 4,
   "metadata": {
    "colab": {},
    "colab_type": "code",
    "id": "umIYC0J6e7Gp"
   },
   "outputs": [],
   "source": [
    "district = call_df('crawling_db.district_table')\n",
    "apartment = call_df('crawling_db.apartment_table').drop(columns='table_id')\n",
    "school = call_df('crawling_db.school_table').drop(columns='table_id')\n",
    "subway = call_df('crawling_db.subway_table').drop(columns='table_id')\n",
    "price = call_df('crawling_db.price_table').drop(columns='price_id')"
   ]
  },
  {
   "cell_type": "code",
   "execution_count": 5,
   "metadata": {
    "colab": {},
    "colab_type": "code",
    "id": "XtPvIVdLe7Jo"
   },
   "outputs": [],
   "source": [
    "df = (price.merge(apartment, how='left', on='apartment_id').\n",
    "      merge(district, how='left', on='district_id').\n",
    "      merge(school, how='left', on='apartment_id').\n",
    "      merge(subway, how='left', on='apartment_id'))"
   ]
  },
  {
   "cell_type": "code",
   "execution_count": 6,
   "metadata": {
    "colab": {},
    "colab_type": "code",
    "id": "vX67v0SOe7Pc"
   },
   "outputs": [],
   "source": [
    "import re\n",
    "df['area'] = df['area'].apply(lambda x: int(re.split('\\D',x)[0]))"
   ]
  },
  {
   "cell_type": "code",
   "execution_count": 7,
   "metadata": {
    "colab": {
     "base_uri": "https://localhost:8080/",
     "height": 139
    },
    "colab_type": "code",
    "executionInfo": {
     "elapsed": 12684,
     "status": "ok",
     "timestamp": 1589015447401,
     "user": {
      "displayName": "조유림",
      "photoUrl": "",
      "userId": "08560563219995702049"
     },
     "user_tz": -540
    },
    "id": "mHflDNs4k34A",
    "outputId": "0619daf5-6759-4fe7-cb5d-4c9c7a058e0b"
   },
   "outputs": [
    {
     "name": "stdout",
     "output_type": "stream",
     "text": [
      "<class 'pandas.core.frame.DataFrame'>\n",
      "Int64Index: 457904 entries, 0 to 457903\n",
      "Data columns (total 25 columns):\n",
      " #   Column                 Non-Null Count   Dtype  \n",
      "---  ------                 --------------   -----  \n",
      " 0   apartment_id           457904 non-null  int64  \n",
      " 1   area                   457904 non-null  int64  \n",
      " 2   period                 457904 non-null  object \n",
      " 3   year                   457904 non-null  int64  \n",
      " 4   month                  457904 non-null  int64  \n",
      " 5   amount                 457904 non-null  int64  \n",
      " 6   amount_original        457904 non-null  object \n",
      " 7   district_id            457904 non-null  int64  \n",
      " 8   apartment_addr_town    457904 non-null  object \n",
      " 9   apartment_builder      457904 non-null  object \n",
      " 10  apartment_build_year   457904 non-null  int64  \n",
      " 11  apartment_build_month  457904 non-null  int64  \n",
      " 12  apartment_floor_min    457904 non-null  object \n",
      " 13  apartment_floor_max    457904 non-null  object \n",
      " 14  apartment_parking      457904 non-null  float64\n",
      " 15  apartment_name         457904 non-null  object \n",
      " 16  district_name          457904 non-null  object \n",
      " 17  school_name            457904 non-null  object \n",
      " 18  school_dist            457904 non-null  int64  \n",
      " 19  school_addr_district   457904 non-null  int64  \n",
      " 20  school_addr_town       457904 non-null  object \n",
      " 21  school_students        457904 non-null  object \n",
      " 22  st_name                457904 non-null  object \n",
      " 23  st_dist                457904 non-null  float64\n",
      " 24  st_volume              457904 non-null  int64  \n",
      "dtypes: float64(2), int64(11), object(12)\n",
      "memory usage: 90.8+ MB\n"
     ]
    }
   ],
   "source": [
    "df.info()"
   ]
  },
  {
   "cell_type": "code",
   "execution_count": 8,
   "metadata": {
    "colab": {},
    "colab_type": "code",
    "id": "T8WMn1ffe7S8"
   },
   "outputs": [],
   "source": [
    "df['school_students'] = pd.to_numeric(df['school_students'])"
   ]
  },
  {
   "cell_type": "code",
   "execution_count": 9,
   "metadata": {
    "colab": {
     "base_uri": "https://localhost:8080/",
     "height": 505
    },
    "colab_type": "code",
    "executionInfo": {
     "elapsed": 13053,
     "status": "ok",
     "timestamp": 1589015447782,
     "user": {
      "displayName": "조유림",
      "photoUrl": "",
      "userId": "08560563219995702049"
     },
     "user_tz": -540
    },
    "id": "-kvSA-bX3mvS",
    "outputId": "ef3b2380-1dbf-4ef2-dc74-b2ec2eaad8dc"
   },
   "outputs": [
    {
     "data": {
      "text/html": [
       "<div>\n",
       "<style scoped>\n",
       "    .dataframe tbody tr th:only-of-type {\n",
       "        vertical-align: middle;\n",
       "    }\n",
       "\n",
       "    .dataframe tbody tr th {\n",
       "        vertical-align: top;\n",
       "    }\n",
       "\n",
       "    .dataframe thead th {\n",
       "        text-align: right;\n",
       "    }\n",
       "</style>\n",
       "<table border=\"1\" class=\"dataframe\">\n",
       "  <thead>\n",
       "    <tr style=\"text-align: right;\">\n",
       "      <th></th>\n",
       "      <th>apartment_id</th>\n",
       "      <th>area</th>\n",
       "      <th>period</th>\n",
       "      <th>year</th>\n",
       "      <th>month</th>\n",
       "      <th>amount</th>\n",
       "      <th>amount_original</th>\n",
       "      <th>district_id</th>\n",
       "      <th>apartment_addr_town</th>\n",
       "      <th>apartment_builder</th>\n",
       "      <th>...</th>\n",
       "      <th>apartment_name</th>\n",
       "      <th>district_name</th>\n",
       "      <th>school_name</th>\n",
       "      <th>school_dist</th>\n",
       "      <th>school_addr_district</th>\n",
       "      <th>school_addr_town</th>\n",
       "      <th>school_students</th>\n",
       "      <th>st_name</th>\n",
       "      <th>st_dist</th>\n",
       "      <th>st_volume</th>\n",
       "    </tr>\n",
       "  </thead>\n",
       "  <tbody>\n",
       "    <tr>\n",
       "      <th>0</th>\n",
       "      <td>8928</td>\n",
       "      <td>160</td>\n",
       "      <td>2020.02</td>\n",
       "      <td>2020</td>\n",
       "      <td>2</td>\n",
       "      <td>2060000000</td>\n",
       "      <td>20억 6,000</td>\n",
       "      <td>1</td>\n",
       "      <td>개포동</td>\n",
       "      <td>LG건설(주)</td>\n",
       "      <td>...</td>\n",
       "      <td>LG개포자이</td>\n",
       "      <td>강남구</td>\n",
       "      <td>서울대진초등학교</td>\n",
       "      <td>1</td>\n",
       "      <td>1</td>\n",
       "      <td>개포로109길</td>\n",
       "      <td>316.0</td>\n",
       "      <td>학여울역</td>\n",
       "      <td>0.002592</td>\n",
       "      <td>1</td>\n",
       "    </tr>\n",
       "    <tr>\n",
       "      <th>1</th>\n",
       "      <td>8928</td>\n",
       "      <td>160</td>\n",
       "      <td>2020.01</td>\n",
       "      <td>2020</td>\n",
       "      <td>1</td>\n",
       "      <td>2030000000</td>\n",
       "      <td>20억 3,000</td>\n",
       "      <td>1</td>\n",
       "      <td>개포동</td>\n",
       "      <td>LG건설(주)</td>\n",
       "      <td>...</td>\n",
       "      <td>LG개포자이</td>\n",
       "      <td>강남구</td>\n",
       "      <td>서울대진초등학교</td>\n",
       "      <td>1</td>\n",
       "      <td>1</td>\n",
       "      <td>개포로109길</td>\n",
       "      <td>316.0</td>\n",
       "      <td>학여울역</td>\n",
       "      <td>0.002592</td>\n",
       "      <td>1</td>\n",
       "    </tr>\n",
       "    <tr>\n",
       "      <th>2</th>\n",
       "      <td>8928</td>\n",
       "      <td>160</td>\n",
       "      <td>2019.11</td>\n",
       "      <td>2019</td>\n",
       "      <td>11</td>\n",
       "      <td>1950000000</td>\n",
       "      <td>19억 5,000</td>\n",
       "      <td>1</td>\n",
       "      <td>개포동</td>\n",
       "      <td>LG건설(주)</td>\n",
       "      <td>...</td>\n",
       "      <td>LG개포자이</td>\n",
       "      <td>강남구</td>\n",
       "      <td>서울대진초등학교</td>\n",
       "      <td>1</td>\n",
       "      <td>1</td>\n",
       "      <td>개포로109길</td>\n",
       "      <td>316.0</td>\n",
       "      <td>학여울역</td>\n",
       "      <td>0.002592</td>\n",
       "      <td>1</td>\n",
       "    </tr>\n",
       "    <tr>\n",
       "      <th>3</th>\n",
       "      <td>8928</td>\n",
       "      <td>160</td>\n",
       "      <td>2019.10</td>\n",
       "      <td>2019</td>\n",
       "      <td>10</td>\n",
       "      <td>1939999999</td>\n",
       "      <td>19억 4,000</td>\n",
       "      <td>1</td>\n",
       "      <td>개포동</td>\n",
       "      <td>LG건설(주)</td>\n",
       "      <td>...</td>\n",
       "      <td>LG개포자이</td>\n",
       "      <td>강남구</td>\n",
       "      <td>서울대진초등학교</td>\n",
       "      <td>1</td>\n",
       "      <td>1</td>\n",
       "      <td>개포로109길</td>\n",
       "      <td>316.0</td>\n",
       "      <td>학여울역</td>\n",
       "      <td>0.002592</td>\n",
       "      <td>1</td>\n",
       "    </tr>\n",
       "    <tr>\n",
       "      <th>4</th>\n",
       "      <td>8928</td>\n",
       "      <td>160</td>\n",
       "      <td>2019.07</td>\n",
       "      <td>2019</td>\n",
       "      <td>7</td>\n",
       "      <td>1739999999</td>\n",
       "      <td>17억 4,000</td>\n",
       "      <td>1</td>\n",
       "      <td>개포동</td>\n",
       "      <td>LG건설(주)</td>\n",
       "      <td>...</td>\n",
       "      <td>LG개포자이</td>\n",
       "      <td>강남구</td>\n",
       "      <td>서울대진초등학교</td>\n",
       "      <td>1</td>\n",
       "      <td>1</td>\n",
       "      <td>개포로109길</td>\n",
       "      <td>316.0</td>\n",
       "      <td>학여울역</td>\n",
       "      <td>0.002592</td>\n",
       "      <td>1</td>\n",
       "    </tr>\n",
       "  </tbody>\n",
       "</table>\n",
       "<p>5 rows × 25 columns</p>\n",
       "</div>"
      ],
      "text/plain": [
       "   apartment_id  area   period  year  month      amount amount_original  \\\n",
       "0          8928   160  2020.02  2020      2  2060000000       20억 6,000   \n",
       "1          8928   160  2020.01  2020      1  2030000000       20억 3,000   \n",
       "2          8928   160  2019.11  2019     11  1950000000       19억 5,000   \n",
       "3          8928   160  2019.10  2019     10  1939999999       19억 4,000   \n",
       "4          8928   160  2019.07  2019      7  1739999999       17억 4,000   \n",
       "\n",
       "   district_id apartment_addr_town apartment_builder  ...  apartment_name  \\\n",
       "0            1                 개포동           LG건설(주)  ...          LG개포자이   \n",
       "1            1                 개포동           LG건설(주)  ...          LG개포자이   \n",
       "2            1                 개포동           LG건설(주)  ...          LG개포자이   \n",
       "3            1                 개포동           LG건설(주)  ...          LG개포자이   \n",
       "4            1                 개포동           LG건설(주)  ...          LG개포자이   \n",
       "\n",
       "   district_name school_name school_dist  school_addr_district  \\\n",
       "0            강남구    서울대진초등학교           1                     1   \n",
       "1            강남구    서울대진초등학교           1                     1   \n",
       "2            강남구    서울대진초등학교           1                     1   \n",
       "3            강남구    서울대진초등학교           1                     1   \n",
       "4            강남구    서울대진초등학교           1                     1   \n",
       "\n",
       "  school_addr_town school_students st_name   st_dist  st_volume  \n",
       "0          개포로109길           316.0    학여울역  0.002592          1  \n",
       "1          개포로109길           316.0    학여울역  0.002592          1  \n",
       "2          개포로109길           316.0    학여울역  0.002592          1  \n",
       "3          개포로109길           316.0    학여울역  0.002592          1  \n",
       "4          개포로109길           316.0    학여울역  0.002592          1  \n",
       "\n",
       "[5 rows x 25 columns]"
      ]
     },
     "execution_count": 9,
     "metadata": {},
     "output_type": "execute_result"
    }
   ],
   "source": [
    "df.head()"
   ]
  },
  {
   "cell_type": "markdown",
   "metadata": {
    "colab_type": "text",
    "id": "SD32Qdw5kAfo"
   },
   "source": [
    "# 연도별 거래액\n",
    "\n"
   ]
  },
  {
   "cell_type": "code",
   "execution_count": 10,
   "metadata": {
    "colab": {
     "base_uri": "https://localhost:8080/",
     "height": 393
    },
    "colab_type": "code",
    "executionInfo": {
     "elapsed": 17428,
     "status": "ok",
     "timestamp": 1589015452171,
     "user": {
      "displayName": "조유림",
      "photoUrl": "",
      "userId": "08560563219995702049"
     },
     "user_tz": -540
    },
    "id": "gtuVgrHAe7V9",
    "outputId": "f00692a7-4b72-4d63-fff5-a75c31008d85"
   },
   "outputs": [
    {
     "data": {
      "text/plain": [
       "<matplotlib.axes._subplots.AxesSubplot at 0x1e15de69ec8>"
      ]
     },
     "execution_count": 10,
     "metadata": {},
     "output_type": "execute_result"
    },
    {
     "data": {
      "image/png": "[encoded data removed]",
      "text/plain": [
       "<Figure size 1296x432 with 1 Axes>"
      ]
     },
     "metadata": {
      "needs_background": "light"
     },
     "output_type": "display_data"
    }
   ],
   "source": [
    "#2020년도의 경우 5월달까지의 거래액만 존재해서 제외\n",
    "a = df[df['year']<2020]\n",
    "figure,ax1 = plt.subplots()\n",
    "figure.set_size_inches(18,6) \n",
    "\n",
    "sns.barplot(data=a,x=\"year\",y=\"amount\",ax=ax1)"
   ]
  },
  {
   "cell_type": "markdown",
   "metadata": {
    "colab_type": "text",
    "id": "l7AMDdFtkes5"
   },
   "source": [
    "- 2009년도부터 2013년까지의 실거래가가 감소하나, 2013년도부터 실거래가 증가"
   ]
  },
  {
   "cell_type": "markdown",
   "metadata": {},
   "source": [
    "# 면적"
   ]
  },
  {
   "cell_type": "code",
   "execution_count": 11,
   "metadata": {},
   "outputs": [
    {
     "data": {
      "text/plain": [
       "<matplotlib.axes._subplots.AxesSubplot at 0x1e154ba1588>"
      ]
     },
     "execution_count": 11,
     "metadata": {},
     "output_type": "execute_result"
    },
    {
     "data": {
      "image/png": "[encoded data removed]",
      "text/plain": [
       "<Figure size 1296x360 with 1 Axes>"
      ]
     },
     "metadata": {
      "needs_background": "light"
     },
     "output_type": "display_data"
    }
   ],
   "source": [
    "figure,ax1 = plt.subplots()\n",
    "figure.set_size_inches(18,5)\n",
    "\n",
    "sns.distplot(df['area'],bins=100)"
   ]
  },
  {
   "cell_type": "markdown",
   "metadata": {},
   "source": [
    "- 면적이 350 넘는 경우는 찾기 힘들다"
   ]
  },
  {
   "cell_type": "code",
   "execution_count": 12,
   "metadata": {},
   "outputs": [
    {
     "data": {
      "text/html": [
       "<div>\n",
       "<style scoped>\n",
       "    .dataframe tbody tr th:only-of-type {\n",
       "        vertical-align: middle;\n",
       "    }\n",
       "\n",
       "    .dataframe tbody tr th {\n",
       "        vertical-align: top;\n",
       "    }\n",
       "\n",
       "    .dataframe thead th {\n",
       "        text-align: right;\n",
       "    }\n",
       "</style>\n",
       "<table border=\"1\" class=\"dataframe\">\n",
       "  <thead>\n",
       "    <tr style=\"text-align: right;\">\n",
       "      <th></th>\n",
       "      <th>apartment_id</th>\n",
       "      <th>area</th>\n",
       "      <th>period</th>\n",
       "      <th>year</th>\n",
       "      <th>month</th>\n",
       "      <th>amount</th>\n",
       "      <th>amount_original</th>\n",
       "      <th>district_id</th>\n",
       "      <th>apartment_addr_town</th>\n",
       "      <th>apartment_builder</th>\n",
       "      <th>...</th>\n",
       "      <th>apartment_name</th>\n",
       "      <th>district_name</th>\n",
       "      <th>school_name</th>\n",
       "      <th>school_dist</th>\n",
       "      <th>school_addr_district</th>\n",
       "      <th>school_addr_town</th>\n",
       "      <th>school_students</th>\n",
       "      <th>st_name</th>\n",
       "      <th>st_dist</th>\n",
       "      <th>st_volume</th>\n",
       "    </tr>\n",
       "  </thead>\n",
       "  <tbody>\n",
       "    <tr>\n",
       "      <th>4225</th>\n",
       "      <td>106971</td>\n",
       "      <td>491</td>\n",
       "      <td>2018.08</td>\n",
       "      <td>2018</td>\n",
       "      <td>8</td>\n",
       "      <td>4430000000</td>\n",
       "      <td>44억 3,000</td>\n",
       "      <td>1</td>\n",
       "      <td>논현동</td>\n",
       "      <td>삼성중공업(주)</td>\n",
       "      <td>...</td>\n",
       "      <td>논현라폴리움</td>\n",
       "      <td>강남구</td>\n",
       "      <td>서울학동초등학교</td>\n",
       "      <td>4</td>\n",
       "      <td>1</td>\n",
       "      <td>선릉로115길</td>\n",
       "      <td>485.0</td>\n",
       "      <td>학동역</td>\n",
       "      <td>0.003559</td>\n",
       "      <td>1</td>\n",
       "    </tr>\n",
       "    <tr>\n",
       "      <th>4226</th>\n",
       "      <td>106971</td>\n",
       "      <td>491</td>\n",
       "      <td>2017.12</td>\n",
       "      <td>2017</td>\n",
       "      <td>12</td>\n",
       "      <td>3900000000</td>\n",
       "      <td>39억</td>\n",
       "      <td>1</td>\n",
       "      <td>논현동</td>\n",
       "      <td>삼성중공업(주)</td>\n",
       "      <td>...</td>\n",
       "      <td>논현라폴리움</td>\n",
       "      <td>강남구</td>\n",
       "      <td>서울학동초등학교</td>\n",
       "      <td>4</td>\n",
       "      <td>1</td>\n",
       "      <td>선릉로115길</td>\n",
       "      <td>485.0</td>\n",
       "      <td>학동역</td>\n",
       "      <td>0.003559</td>\n",
       "      <td>1</td>\n",
       "    </tr>\n",
       "    <tr>\n",
       "      <th>4227</th>\n",
       "      <td>106971</td>\n",
       "      <td>491</td>\n",
       "      <td>2017.11</td>\n",
       "      <td>2017</td>\n",
       "      <td>11</td>\n",
       "      <td>3950000000</td>\n",
       "      <td>39억 5,000</td>\n",
       "      <td>1</td>\n",
       "      <td>논현동</td>\n",
       "      <td>삼성중공업(주)</td>\n",
       "      <td>...</td>\n",
       "      <td>논현라폴리움</td>\n",
       "      <td>강남구</td>\n",
       "      <td>서울학동초등학교</td>\n",
       "      <td>4</td>\n",
       "      <td>1</td>\n",
       "      <td>선릉로115길</td>\n",
       "      <td>485.0</td>\n",
       "      <td>학동역</td>\n",
       "      <td>0.003559</td>\n",
       "      <td>1</td>\n",
       "    </tr>\n",
       "    <tr>\n",
       "      <th>4228</th>\n",
       "      <td>106971</td>\n",
       "      <td>491</td>\n",
       "      <td>2016.02</td>\n",
       "      <td>2016</td>\n",
       "      <td>2</td>\n",
       "      <td>3470000000</td>\n",
       "      <td>34억 7,000</td>\n",
       "      <td>1</td>\n",
       "      <td>논현동</td>\n",
       "      <td>삼성중공업(주)</td>\n",
       "      <td>...</td>\n",
       "      <td>논현라폴리움</td>\n",
       "      <td>강남구</td>\n",
       "      <td>서울학동초등학교</td>\n",
       "      <td>4</td>\n",
       "      <td>1</td>\n",
       "      <td>선릉로115길</td>\n",
       "      <td>485.0</td>\n",
       "      <td>학동역</td>\n",
       "      <td>0.003559</td>\n",
       "      <td>1</td>\n",
       "    </tr>\n",
       "    <tr>\n",
       "      <th>4229</th>\n",
       "      <td>106971</td>\n",
       "      <td>491</td>\n",
       "      <td>2014.12</td>\n",
       "      <td>2014</td>\n",
       "      <td>12</td>\n",
       "      <td>4700000000</td>\n",
       "      <td>47억</td>\n",
       "      <td>1</td>\n",
       "      <td>논현동</td>\n",
       "      <td>삼성중공업(주)</td>\n",
       "      <td>...</td>\n",
       "      <td>논현라폴리움</td>\n",
       "      <td>강남구</td>\n",
       "      <td>서울학동초등학교</td>\n",
       "      <td>4</td>\n",
       "      <td>1</td>\n",
       "      <td>선릉로115길</td>\n",
       "      <td>485.0</td>\n",
       "      <td>학동역</td>\n",
       "      <td>0.003559</td>\n",
       "      <td>1</td>\n",
       "    </tr>\n",
       "  </tbody>\n",
       "</table>\n",
       "<p>5 rows × 25 columns</p>\n",
       "</div>"
      ],
      "text/plain": [
       "      apartment_id  area   period  year  month      amount amount_original  \\\n",
       "4225        106971   491  2018.08  2018      8  4430000000       44억 3,000   \n",
       "4226        106971   491  2017.12  2017     12  3900000000             39억   \n",
       "4227        106971   491  2017.11  2017     11  3950000000       39억 5,000   \n",
       "4228        106971   491  2016.02  2016      2  3470000000       34억 7,000   \n",
       "4229        106971   491  2014.12  2014     12  4700000000             47억   \n",
       "\n",
       "      district_id apartment_addr_town apartment_builder  ...  apartment_name  \\\n",
       "4225            1                 논현동          삼성중공업(주)  ...          논현라폴리움   \n",
       "4226            1                 논현동          삼성중공업(주)  ...          논현라폴리움   \n",
       "4227            1                 논현동          삼성중공업(주)  ...          논현라폴리움   \n",
       "4228            1                 논현동          삼성중공업(주)  ...          논현라폴리움   \n",
       "4229            1                 논현동          삼성중공업(주)  ...          논현라폴리움   \n",
       "\n",
       "      district_name school_name school_dist  school_addr_district  \\\n",
       "4225            강남구    서울학동초등학교           4                     1   \n",
       "4226            강남구    서울학동초등학교           4                     1   \n",
       "4227            강남구    서울학동초등학교           4                     1   \n",
       "4228            강남구    서울학동초등학교           4                     1   \n",
       "4229            강남구    서울학동초등학교           4                     1   \n",
       "\n",
       "     school_addr_town school_students st_name   st_dist  st_volume  \n",
       "4225          선릉로115길           485.0     학동역  0.003559          1  \n",
       "4226          선릉로115길           485.0     학동역  0.003559          1  \n",
       "4227          선릉로115길           485.0     학동역  0.003559          1  \n",
       "4228          선릉로115길           485.0     학동역  0.003559          1  \n",
       "4229          선릉로115길           485.0     학동역  0.003559          1  \n",
       "\n",
       "[5 rows x 25 columns]"
      ]
     },
     "execution_count": 12,
     "metadata": {},
     "output_type": "execute_result"
    }
   ],
   "source": [
    "df[df['area']>350].head()"
   ]
  },
  {
   "cell_type": "markdown",
   "metadata": {},
   "source": [
    "- 면적이 350이 넘는 경우는 대부분 강남에 위치한다"
   ]
  },
  {
   "cell_type": "markdown",
   "metadata": {
    "colab_type": "text",
    "id": "9s67se6EoCUd"
   },
   "source": [
    "# 자치구별 거래액"
   ]
  },
  {
   "cell_type": "markdown",
   "metadata": {
    "colab_type": "text",
    "id": "MBT1GmCIDrOK"
   },
   "source": [
    "- 실거래가를 자치구별로 나타내고, 이상치를 제거했다"
   ]
  },
  {
   "cell_type": "code",
   "execution_count": 13,
   "metadata": {
    "colab": {
     "base_uri": "https://localhost:8080/",
     "height": 366
    },
    "colab_type": "code",
    "executionInfo": {
     "elapsed": 17969,
     "status": "ok",
     "timestamp": 1589015452727,
     "user": {
      "displayName": "조유림",
      "photoUrl": "",
      "userId": "08560563219995702049"
     },
     "user_tz": -540
    },
    "id": "aM9s2eN9s3LB",
    "outputId": "2f58650d-abf8-4e74-9d67-d977863ab3fc"
   },
   "outputs": [
    {
     "data": {
      "text/plain": [
       "<matplotlib.axes._subplots.AxesSubplot at 0x1e14ab06148>"
      ]
     },
     "execution_count": 13,
     "metadata": {},
     "output_type": "execute_result"
    },
    {
     "data": {
      "image/png": "[encoded data removed]",
      "text/plain": [
       "<Figure size 1296x360 with 1 Axes>"
      ]
     },
     "metadata": {
      "needs_background": "light"
     },
     "output_type": "display_data"
    }
   ],
   "source": [
    "figure,ax1 = plt.subplots()\n",
    "figure.set_size_inches(18,5)\n",
    "\n",
    "sns.boxplot(data=df,y='amount',x='district_id')"
   ]
  },
  {
   "cell_type": "markdown",
   "metadata": {
    "colab_type": "text",
    "id": "mjUC9c7DJIWc"
   },
   "source": [
    "- 이상치는 동일 면적의 해당 아파트 거래가 한번인 경우 제거하지 않았다\n",
    "- 해당 아파트에 대한 거래 정보가 없어지기 때문"
   ]
  },
  {
   "cell_type": "code",
   "execution_count": 14,
   "metadata": {
    "colab": {},
    "colab_type": "code",
    "id": "ITlupiNOtn2V"
   },
   "outputs": [],
   "source": [
    "#이상치 제거\n",
    "df.drop(df[df['district_id']==2].sort_values(by='amount',ascending=False).head(1).index,inplace=True)\n",
    "df.drop(df[df['district_id']==6].sort_values(by='amount',ascending=False).head(1).index,inplace=True)\n",
    "df.drop(df[df['district_id']==12].sort_values(by='amount',ascending=False).head(5).index,inplace=True)\n",
    "#df.drop(df[df['district_id']==13].sort_values(by='amount',ascending=False).head(2).index,inplace=True) 거래가 총 2번 이루어져서 제거 안함\n",
    "df.drop(df[df['district_id']==14].sort_values(by='amount',ascending=False).head(1).index,inplace=True)\n",
    "df.drop(df[df['district_id']==16].sort_values(by='amount',ascending=False).head(1).index,inplace=True)\n",
    "df.drop(df[df['district_id']==18].sort_values(by='amount',ascending=False).head(1).index,inplace=True)\n",
    "df.drop(df[df['district_id']==19].sort_values(by='amount',ascending=False).head(1).index,inplace=True)\n",
    "df.drop(df[df['district_id']==22].sort_values(by='amount',ascending=False).head(3).index,inplace=True)#신호아파트 면적97인 아파트의 경우 한번 거래가 이루어져 제거 안함\n",
    "df.drop(df[df['district_id']==24].sort_values(by='amount',ascending=False).head(1).index,inplace=True)"
   ]
  },
  {
   "cell_type": "code",
   "execution_count": 15,
   "metadata": {
    "colab": {},
    "colab_type": "code",
    "id": "CHwdgqIfItbu"
   },
   "outputs": [],
   "source": [
    "# df[df['district_id']==22].sort_values(by='amount',ascending=False).head(4)[['apartment_name','area','amount']]"
   ]
  },
  {
   "cell_type": "code",
   "execution_count": 16,
   "metadata": {
    "colab": {},
    "colab_type": "code",
    "id": "Z3LJFtadJwib"
   },
   "outputs": [],
   "source": [
    "# df[(df['apartment_name']=='신호')&(df['area']==132)]"
   ]
  },
  {
   "cell_type": "code",
   "execution_count": 17,
   "metadata": {
    "colab": {
     "base_uri": "https://localhost:8080/",
     "height": 366
    },
    "colab_type": "code",
    "executionInfo": {
     "elapsed": 2097,
     "status": "ok",
     "timestamp": 1589016627233,
     "user": {
      "displayName": "조유림",
      "photoUrl": "",
      "userId": "08560563219995702049"
     },
     "user_tz": -540
    },
    "id": "NdPeDFMYxUQp",
    "outputId": "efb24abe-e208-4a12-9557-ecbaf3a913eb"
   },
   "outputs": [
    {
     "data": {
      "text/plain": [
       "<matplotlib.axes._subplots.AxesSubplot at 0x1e154b36e48>"
      ]
     },
     "execution_count": 17,
     "metadata": {},
     "output_type": "execute_result"
    },
    {
     "data": {
      "image/png": "[encoded data removed]",
      "text/plain": [
       "<Figure size 1296x360 with 1 Axes>"
      ]
     },
     "metadata": {
      "needs_background": "light"
     },
     "output_type": "display_data"
    }
   ],
   "source": [
    "#이상치를 제거한 boxplot\n",
    "figure,ax1 = plt.subplots()\n",
    "figure.set_size_inches(18,5)\n",
    "\n",
    "sns.boxplot(data=df,y='amount',x='district_id')"
   ]
  },
  {
   "cell_type": "markdown",
   "metadata": {
    "colab_type": "text",
    "id": "HGVKpGRQxizs"
   },
   "source": [
    "- 이상치를 제거한 이후의 자치구별 실거래가 boxplot"
   ]
  },
  {
   "cell_type": "markdown",
   "metadata": {
    "colab_type": "text",
    "id": "I-PJ3h2csVtn"
   },
   "source": [
    "# 학교정보"
   ]
  },
  {
   "cell_type": "code",
   "execution_count": 18,
   "metadata": {
    "colab": {
     "base_uri": "https://localhost:8080/",
     "height": 34
    },
    "colab_type": "code",
    "executionInfo": {
     "elapsed": 18677,
     "status": "ok",
     "timestamp": 1589015453475,
     "user": {
      "displayName": "조유림",
      "photoUrl": "",
      "userId": "08560563219995702049"
     },
     "user_tz": -540
    },
    "id": "nmtKqMDg0F0B",
    "outputId": "7de8e444-b98b-402a-b53d-e1ba6b72a79a"
   },
   "outputs": [
    {
     "data": {
      "text/plain": [
       "538"
      ]
     },
     "execution_count": 18,
     "metadata": {},
     "output_type": "execute_result"
    }
   ],
   "source": [
    "df['school_name'].nunique()"
   ]
  },
  {
   "cell_type": "markdown",
   "metadata": {
    "colab_type": "text",
    "id": "6-SVax7S4i7i"
   },
   "source": [
    "- 538개의 학교가 있으며, 초등학교 데이터만 존재 > 고등학교에 대한 데이터가 아니기 때문에 학교 이름에 따른 실거래가 영향은 없을 것으로 보임 > 제거"
   ]
  },
  {
   "cell_type": "code",
   "execution_count": 19,
   "metadata": {},
   "outputs": [
    {
     "data": {
      "text/plain": [
       "<matplotlib.axes._subplots.AxesSubplot at 0x1e154a52648>"
      ]
     },
     "execution_count": 19,
     "metadata": {},
     "output_type": "execute_result"
    },
    {
     "data": {
      "image/png": "[encoded data removed]",
      "text/plain": [
       "<Figure size 432x288 with 1 Axes>"
      ]
     },
     "metadata": {
      "needs_background": "light"
     },
     "output_type": "display_data"
    }
   ],
   "source": [
    "a = df['school_addr_district']==df['district_id']\n",
    "a = pd.DataFrame(a)\n",
    "sns.heatmap(a,cbar=False, cmap=\"YlGnBu\")"
   ]
  },
  {
   "cell_type": "markdown",
   "metadata": {},
   "source": [
    "- 'school_add_district'와'district_id' 값이 모두 동일 > 제거한다 \n",
    "- 행정동의 경우, 동일한 지역에 대해 다른 명칭으로 표기되어 있음(노량진동 노량진로) > 제거한다"
   ]
  },
  {
   "cell_type": "code",
   "execution_count": 20,
   "metadata": {},
   "outputs": [],
   "source": [
    "ind = df[df['school_name']=='서울가산초등학교'].index\n",
    "df2 = df.drop(ind)\n",
    "a = df[df['school_students']==0].index\n",
    "df2 = df2.drop(a)\n",
    "#서울가산초등학교의 경우 데이터에 따라 금천구 구로구에 모두 속한다고 \n",
    "#표기되어있음. 우선 제거한다\n",
    "#학생수가 0인 경우 또한 우선 제거해서 분석"
   ]
  },
  {
   "cell_type": "code",
   "execution_count": 21,
   "metadata": {},
   "outputs": [
    {
     "data": {
      "text/html": [
       "<div>\n",
       "<style scoped>\n",
       "    .dataframe tbody tr th:only-of-type {\n",
       "        vertical-align: middle;\n",
       "    }\n",
       "\n",
       "    .dataframe tbody tr th {\n",
       "        vertical-align: top;\n",
       "    }\n",
       "\n",
       "    .dataframe thead th {\n",
       "        text-align: right;\n",
       "    }\n",
       "</style>\n",
       "<table border=\"1\" class=\"dataframe\">\n",
       "  <thead>\n",
       "    <tr style=\"text-align: right;\">\n",
       "      <th></th>\n",
       "      <th>index</th>\n",
       "      <th>school_name</th>\n",
       "      <th>school_students</th>\n",
       "      <th>amount</th>\n",
       "      <th>district_name</th>\n",
       "    </tr>\n",
       "  </thead>\n",
       "  <tbody>\n",
       "    <tr>\n",
       "      <th>101</th>\n",
       "      <td>85015</td>\n",
       "      <td>서울대도초등학교</td>\n",
       "      <td>2157.0</td>\n",
       "      <td>1.449975e+09</td>\n",
       "      <td>강남구</td>\n",
       "    </tr>\n",
       "  </tbody>\n",
       "</table>\n",
       "</div>"
      ],
      "text/plain": [
       "     index school_name  school_students        amount district_name\n",
       "101  85015    서울대도초등학교           2157.0  1.449975e+09           강남구"
      ]
     },
     "execution_count": 21,
     "metadata": {},
     "output_type": "execute_result"
    }
   ],
   "source": [
    "df2 = df2.groupby('school_name').mean()[['school_students','amount']].dropna()\n",
    "df2 = pd.merge(df2,df[['district_name','school_name']],how='left',on='school_name').drop_duplicates()\n",
    "df2.reset_index(inplace=True)\n",
    "df2.head()\n",
    "df2[df2['school_students']>2000] #학생수가 2000명 넘는 학교"
   ]
  },
  {
   "cell_type": "markdown",
   "metadata": {
    "colab_type": "text",
    "id": "sWKex8OW7Qv4"
   },
   "source": [
    "- 학생수가 2000명 넘는 학교는 한군데, 서울대도초등학교 >> 제외하고 분석"
   ]
  },
  {
   "cell_type": "code",
   "execution_count": 22,
   "metadata": {
    "colab": {},
    "colab_type": "code",
    "id": "6dqBZlzs-7z7"
   },
   "outputs": [],
   "source": [
    "#대도초등학교 제외하고 분포 살펴보기\n",
    "df2 = df2[df2['school_students']<2000]"
   ]
  },
  {
   "cell_type": "markdown",
   "metadata": {
    "colab_type": "text",
    "id": "Ov6aVhaDdRZi"
   },
   "source": [
    "- 자치구 세대수 대비 학교 학생수의 비율 구하기"
   ]
  },
  {
   "cell_type": "code",
   "execution_count": 23,
   "metadata": {
    "colab": {
     "base_uri": "https://localhost:8080/",
     "height": 196
    },
    "colab_type": "code",
    "executionInfo": {
     "elapsed": 19652,
     "status": "ok",
     "timestamp": 1589015454506,
     "user": {
      "displayName": "조유림",
      "photoUrl": "",
      "userId": "08560563219995702049"
     },
     "user_tz": -540
    },
    "id": "mwxlEtkuoXA0",
    "outputId": "7ee82479-cfb6-4624-d539-6a3af21caa12"
   },
   "outputs": [
    {
     "data": {
      "text/html": [
       "<div>\n",
       "<style scoped>\n",
       "    .dataframe tbody tr th:only-of-type {\n",
       "        vertical-align: middle;\n",
       "    }\n",
       "\n",
       "    .dataframe tbody tr th {\n",
       "        vertical-align: top;\n",
       "    }\n",
       "\n",
       "    .dataframe thead th {\n",
       "        text-align: right;\n",
       "    }\n",
       "</style>\n",
       "<table border=\"1\" class=\"dataframe\">\n",
       "  <thead>\n",
       "    <tr style=\"text-align: right;\">\n",
       "      <th></th>\n",
       "      <th>index</th>\n",
       "      <th>school_name</th>\n",
       "      <th>school_students</th>\n",
       "      <th>amount</th>\n",
       "      <th>district_name</th>\n",
       "    </tr>\n",
       "  </thead>\n",
       "  <tbody>\n",
       "    <tr>\n",
       "      <th>0</th>\n",
       "      <td>0</td>\n",
       "      <td>서울가곡초등학교</td>\n",
       "      <td>879.0</td>\n",
       "      <td>4.794164e+08</td>\n",
       "      <td>강서구</td>\n",
       "    </tr>\n",
       "    <tr>\n",
       "      <th>1</th>\n",
       "      <td>562</td>\n",
       "      <td>서울가동초등학교</td>\n",
       "      <td>947.0</td>\n",
       "      <td>6.759128e+08</td>\n",
       "      <td>송파구</td>\n",
       "    </tr>\n",
       "    <tr>\n",
       "      <th>2</th>\n",
       "      <td>1769</td>\n",
       "      <td>서울가락초등학교</td>\n",
       "      <td>812.0</td>\n",
       "      <td>7.367314e+08</td>\n",
       "      <td>송파구</td>\n",
       "    </tr>\n",
       "    <tr>\n",
       "      <th>3</th>\n",
       "      <td>1984</td>\n",
       "      <td>서울가양초등학교</td>\n",
       "      <td>235.0</td>\n",
       "      <td>3.622789e+08</td>\n",
       "      <td>강서구</td>\n",
       "    </tr>\n",
       "    <tr>\n",
       "      <th>4</th>\n",
       "      <td>2738</td>\n",
       "      <td>서울가원초등학교</td>\n",
       "      <td>630.0</td>\n",
       "      <td>1.038202e+09</td>\n",
       "      <td>송파구</td>\n",
       "    </tr>\n",
       "  </tbody>\n",
       "</table>\n",
       "</div>"
      ],
      "text/plain": [
       "   index school_name  school_students        amount district_name\n",
       "0      0    서울가곡초등학교            879.0  4.794164e+08           강서구\n",
       "1    562    서울가동초등학교            947.0  6.759128e+08           송파구\n",
       "2   1769    서울가락초등학교            812.0  7.367314e+08           송파구\n",
       "3   1984    서울가양초등학교            235.0  3.622789e+08           강서구\n",
       "4   2738    서울가원초등학교            630.0  1.038202e+09           송파구"
      ]
     },
     "execution_count": 23,
     "metadata": {},
     "output_type": "execute_result"
    }
   ],
   "source": [
    "df2.head()"
   ]
  },
  {
   "cell_type": "code",
   "execution_count": 24,
   "metadata": {
    "colab": {},
    "colab_type": "code",
    "id": "OuG6npA_Yon9"
   },
   "outputs": [],
   "source": [
    "population = pd.read_excel(\"population.xlsx\")\n",
    "population.drop(['※ 매년 말일자 통계 현황','Unnamed: 4'],axis=1,inplace=True)\n",
    "population.drop([0,1,2],inplace=True)\n",
    "population.rename(columns={'Unnamed: 1':'district_name','Unnamed: 2':'총인구수','Unnamed: 3':'세대수'},inplace=True)"
   ]
  },
  {
   "cell_type": "code",
   "execution_count": 25,
   "metadata": {
    "colab": {},
    "colab_type": "code",
    "id": "sHAVPx0UbMAD"
   },
   "outputs": [],
   "source": [
    "population['district_name'] = population.district_name.str.split(' ').str[1]\n",
    "population['세대수'] = population.세대수.str.replace(',', '').astype('int64')"
   ]
  },
  {
   "cell_type": "code",
   "execution_count": 26,
   "metadata": {
    "colab": {
     "base_uri": "https://localhost:8080/",
     "height": 196
    },
    "colab_type": "code",
    "executionInfo": {
     "elapsed": 19632,
     "status": "ok",
     "timestamp": 1589015454508,
     "user": {
      "displayName": "조유림",
      "photoUrl": "",
      "userId": "08560563219995702049"
     },
     "user_tz": -540
    },
    "id": "ZHqyMqzci_ZH",
    "outputId": "edb28aa6-bab3-416d-d791-7d449ecf7e6f"
   },
   "outputs": [
    {
     "data": {
      "text/html": [
       "<div>\n",
       "<style scoped>\n",
       "    .dataframe tbody tr th:only-of-type {\n",
       "        vertical-align: middle;\n",
       "    }\n",
       "\n",
       "    .dataframe tbody tr th {\n",
       "        vertical-align: top;\n",
       "    }\n",
       "\n",
       "    .dataframe thead th {\n",
       "        text-align: right;\n",
       "    }\n",
       "</style>\n",
       "<table border=\"1\" class=\"dataframe\">\n",
       "  <thead>\n",
       "    <tr style=\"text-align: right;\">\n",
       "      <th></th>\n",
       "      <th>district_name</th>\n",
       "      <th>총인구수</th>\n",
       "      <th>세대수</th>\n",
       "    </tr>\n",
       "  </thead>\n",
       "  <tbody>\n",
       "    <tr>\n",
       "      <th>3</th>\n",
       "      <td>종로구</td>\n",
       "      <td>151,290</td>\n",
       "      <td>73947</td>\n",
       "    </tr>\n",
       "    <tr>\n",
       "      <th>4</th>\n",
       "      <td>중구</td>\n",
       "      <td>126,171</td>\n",
       "      <td>62739</td>\n",
       "    </tr>\n",
       "    <tr>\n",
       "      <th>5</th>\n",
       "      <td>용산구</td>\n",
       "      <td>228,670</td>\n",
       "      <td>110126</td>\n",
       "    </tr>\n",
       "    <tr>\n",
       "      <th>6</th>\n",
       "      <td>성동구</td>\n",
       "      <td>300,889</td>\n",
       "      <td>135838</td>\n",
       "    </tr>\n",
       "    <tr>\n",
       "      <th>7</th>\n",
       "      <td>광진구</td>\n",
       "      <td>351,350</td>\n",
       "      <td>164428</td>\n",
       "    </tr>\n",
       "  </tbody>\n",
       "</table>\n",
       "</div>"
      ],
      "text/plain": [
       "  district_name     총인구수     세대수\n",
       "3           종로구  151,290   73947\n",
       "4            중구  126,171   62739\n",
       "5           용산구  228,670  110126\n",
       "6           성동구  300,889  135838\n",
       "7           광진구  351,350  164428"
      ]
     },
     "execution_count": 26,
     "metadata": {},
     "output_type": "execute_result"
    }
   ],
   "source": [
    "population.head()"
   ]
  },
  {
   "cell_type": "code",
   "execution_count": 27,
   "metadata": {
    "colab": {
     "base_uri": "https://localhost:8080/",
     "height": 284
    },
    "colab_type": "code",
    "executionInfo": {
     "elapsed": 19625,
     "status": "ok",
     "timestamp": 1589015454509,
     "user": {
      "displayName": "조유림",
      "photoUrl": "",
      "userId": "08560563219995702049"
     },
     "user_tz": -540
    },
    "id": "8A6xfnGqc5J_",
    "outputId": "f65e143f-0134-443d-9dec-d3e924cffa52"
   },
   "outputs": [
    {
     "data": {
      "text/html": [
       "<div>\n",
       "<style scoped>\n",
       "    .dataframe tbody tr th:only-of-type {\n",
       "        vertical-align: middle;\n",
       "    }\n",
       "\n",
       "    .dataframe tbody tr th {\n",
       "        vertical-align: top;\n",
       "    }\n",
       "\n",
       "    .dataframe thead th {\n",
       "        text-align: right;\n",
       "    }\n",
       "</style>\n",
       "<table border=\"1\" class=\"dataframe\">\n",
       "  <thead>\n",
       "    <tr style=\"text-align: right;\">\n",
       "      <th></th>\n",
       "      <th>index</th>\n",
       "      <th>school_name</th>\n",
       "      <th>school_students</th>\n",
       "      <th>amount</th>\n",
       "      <th>district_name</th>\n",
       "      <th>총인구수</th>\n",
       "      <th>세대수</th>\n",
       "      <th>ratio</th>\n",
       "    </tr>\n",
       "  </thead>\n",
       "  <tbody>\n",
       "    <tr>\n",
       "      <th>334</th>\n",
       "      <td>269371</td>\n",
       "      <td>서울신용산초등학교</td>\n",
       "      <td>1668.0</td>\n",
       "      <td>1.160135e+09</td>\n",
       "      <td>용산구</td>\n",
       "      <td>228,670</td>\n",
       "      <td>110126</td>\n",
       "      <td>0.015146</td>\n",
       "    </tr>\n",
       "  </tbody>\n",
       "</table>\n",
       "</div>"
      ],
      "text/plain": [
       "      index school_name  school_students        amount district_name     총인구수  \\\n",
       "334  269371   서울신용산초등학교           1668.0  1.160135e+09           용산구  228,670   \n",
       "\n",
       "        세대수     ratio  \n",
       "334  110126  0.015146  "
      ]
     },
     "execution_count": 27,
     "metadata": {},
     "output_type": "execute_result"
    }
   ],
   "source": [
    "df1 = pd.merge(df2,population,how='left',on='district_name')\n",
    "df1['ratio'] = 0.0\n",
    "for ind in df1.index:\n",
    "  a = float(df1['세대수'][ind])\n",
    "  b = float(df1['school_students'][ind])\n",
    "  df1['ratio'][ind] = b/a\n",
    "df1[df1['ratio']>0.015] #제거"
   ]
  },
  {
   "cell_type": "markdown",
   "metadata": {
    "colab_type": "text",
    "id": "WFqBmUjSt3Ff"
   },
   "source": [
    "- ratio는 각 자치구별 세대수와 학교 학생 수의 비율을 나타낸 것\n",
    "- ratio는 0.00038~0.015사이\n",
    "- ratio가 0.015 이상인 학교는 한 사례다 > 제거한다  "
   ]
  },
  {
   "cell_type": "code",
   "execution_count": 28,
   "metadata": {},
   "outputs": [],
   "source": [
    "df1 = df1[df1['ratio']<0.015]"
   ]
  },
  {
   "cell_type": "code",
   "execution_count": 29,
   "metadata": {
    "colab": {
     "base_uri": "https://localhost:8080/",
     "height": 529
    },
    "colab_type": "code",
    "executionInfo": {
     "elapsed": 20404,
     "status": "ok",
     "timestamp": 1589015455297,
     "user": {
      "displayName": "조유림",
      "photoUrl": "",
      "userId": "08560563219995702049"
     },
     "user_tz": -540
    },
    "id": "6oZWk_DWrEoR",
    "outputId": "5dd4fa3d-a00b-418e-bb37-42b822e98aa9"
   },
   "outputs": [
    {
     "data": {
      "text/plain": [
       "<matplotlib.axes._subplots.AxesSubplot at 0x1e15838d708>"
      ]
     },
     "execution_count": 29,
     "metadata": {},
     "output_type": "execute_result"
    },
    {
     "data": {
      "image/png": "[encoded data removed]",
      "text/plain": [
       "<Figure size 576x576 with 1 Axes>"
      ]
     },
     "metadata": {
      "needs_background": "light"
     },
     "output_type": "display_data"
    }
   ],
   "source": [
    "figure,ax1 = plt.subplots()\n",
    "figure.set_size_inches(8,8) \n",
    "\n",
    "sns.regplot(x=\"ratio\",y=\"amount\",data=df1,color=\"m\",ax=ax1)"
   ]
  },
  {
   "cell_type": "markdown",
   "metadata": {
    "colab_type": "text",
    "id": "Ene3AbC_rLSx"
   },
   "source": [
    "- 자치구별 세대수대비 학교 학생수가 많을 수록 아파트의 실거래가가 높아진다"
   ]
  },
  {
   "cell_type": "code",
   "execution_count": 30,
   "metadata": {
    "colab": {
     "base_uri": "https://localhost:8080/",
     "height": 366
    },
    "colab_type": "code",
    "executionInfo": {
     "elapsed": 20394,
     "status": "ok",
     "timestamp": 1589015455299,
     "user": {
      "displayName": "조유림",
      "photoUrl": "",
      "userId": "08560563219995702049"
     },
     "user_tz": -540
    },
    "id": "qnKFBfUmfeii",
    "outputId": "2a3c41bf-4820-469e-9688-2b2a687a5137"
   },
   "outputs": [
    {
     "data": {
      "text/plain": [
       "<matplotlib.axes._subplots.AxesSubplot at 0x1e15804c488>"
      ]
     },
     "execution_count": 30,
     "metadata": {},
     "output_type": "execute_result"
    },
    {
     "data": {
      "image/png": "[encoded data removed]",
      "text/plain": [
       "<Figure size 1296x360 with 1 Axes>"
      ]
     },
     "metadata": {
      "needs_background": "light"
     },
     "output_type": "display_data"
    }
   ],
   "source": [
    "factor = pd.cut(df1.ratio,5)\n",
    "a = df1.amount.groupby(factor).mean()\n",
    "a = pd.DataFrame(a)\n",
    "a = a.reset_index()\n",
    "\n",
    "\n",
    "figure,ax1 = plt.subplots()\n",
    "figure.set_size_inches(18,5) \n",
    "\n",
    "sns.barplot(data=a,x=\"ratio\",y=\"amount\",ax=ax1)"
   ]
  },
  {
   "cell_type": "markdown",
   "metadata": {
    "colab_type": "text",
    "id": "I1oAW3z0sPix"
   },
   "source": [
    "- 자치구 세대수 인구 대비 학교 학생수의 비율이 커질수록, amount가 커지는 경향"
   ]
  },
  {
   "cell_type": "markdown",
   "metadata": {
    "colab_type": "text",
    "id": "g4PyZ0sXFpC1"
   },
   "source": [
    "# 세대당 주차대수"
   ]
  },
  {
   "cell_type": "code",
   "execution_count": 31,
   "metadata": {
    "colab": {
     "base_uri": "https://localhost:8080/",
     "height": 409
    },
    "colab_type": "code",
    "executionInfo": {
     "elapsed": 20378,
     "status": "ok",
     "timestamp": 1589015455302,
     "user": {
      "displayName": "조유림",
      "photoUrl": "",
      "userId": "08560563219995702049"
     },
     "user_tz": -540
    },
    "id": "lZvKVrsJFunB",
    "outputId": "db3c40ba-c784-49b4-c248-cbab3b26d117"
   },
   "outputs": [
    {
     "data": {
      "text/plain": [
       "<matplotlib.axes._subplots.AxesSubplot at 0x1e1578d1a48>"
      ]
     },
     "execution_count": 31,
     "metadata": {},
     "output_type": "execute_result"
    },
    {
     "data": {
      "image/png": "[encoded data removed]",
      "text/plain": [
       "<Figure size 1296x432 with 1 Axes>"
      ]
     },
     "metadata": {
      "needs_background": "light"
     },
     "output_type": "display_data"
    }
   ],
   "source": [
    "figure,ax1 = plt.subplots()\n",
    "figure.set_size_inches(18,6) \n",
    "sns.distplot(df['apartment_parking'],ax=ax1,bins=60)"
   ]
  },
  {
   "cell_type": "markdown",
   "metadata": {
    "colab_type": "text",
    "id": "Tln6V5GdGxU9"
   },
   "source": [
    "- 세대당 주차대수는 0~2대 사이에 주로 분포"
   ]
  },
  {
   "cell_type": "code",
   "execution_count": 32,
   "metadata": {},
   "outputs": [],
   "source": [
    "df['apartment_parking_floor'] = df['apartment_parking'].apply(np.floor)"
   ]
  },
  {
   "cell_type": "code",
   "execution_count": 33,
   "metadata": {
    "colab": {
     "base_uri": "https://localhost:8080/",
     "height": 366
    },
    "colab_type": "code",
    "executionInfo": {
     "elapsed": 20802,
     "status": "ok",
     "timestamp": 1589015455738,
     "user": {
      "displayName": "조유림",
      "photoUrl": "",
      "userId": "08560563219995702049"
     },
     "user_tz": -540
    },
    "id": "z9sdlUVlG_Aq",
    "outputId": "ea26dc05-107e-41be-927c-c204dcfd5e07"
   },
   "outputs": [
    {
     "data": {
      "text/plain": [
       "<matplotlib.axes._subplots.AxesSubplot at 0x1e156e63f48>"
      ]
     },
     "execution_count": 33,
     "metadata": {},
     "output_type": "execute_result"
    },
    {
     "data": {
      "image/png": "[encoded data removed]",
      "text/plain": [
       "<Figure size 1296x360 with 1 Axes>"
      ]
     },
     "metadata": {
      "needs_background": "light"
     },
     "output_type": "display_data"
    }
   ],
   "source": [
    "figure,ax1 = plt.subplots()\n",
    "figure.set_size_inches(18,5) \n",
    "\n",
    "sns.barplot(data=df,x=\"apartment_parking_floor\",y=\"amount\",ax=ax1)"
   ]
  },
  {
   "cell_type": "markdown",
   "metadata": {
    "colab_type": "text",
    "id": "yMXXgPMhKPoY"
   },
   "source": [
    "- 세대당 주차대수에 따른 amount가 상관관계를 보이지 않는다. 들쑥날쑥..> 제거한다 "
   ]
  },
  {
   "cell_type": "markdown",
   "metadata": {
    "colab_type": "text",
    "id": "YN8UpIsjkJsd"
   },
   "source": [
    "# 준공연도"
   ]
  },
  {
   "cell_type": "code",
   "execution_count": 34,
   "metadata": {
    "colab": {
     "base_uri": "https://localhost:8080/",
     "height": 638
    },
    "colab_type": "code",
    "executionInfo": {
     "elapsed": 32801,
     "status": "ok",
     "timestamp": 1589015467743,
     "user": {
      "displayName": "조유림",
      "photoUrl": "",
      "userId": "08560563219995702049"
     },
     "user_tz": -540
    },
    "id": "73erlS2ke7Y_",
    "outputId": "cfd10ffd-4d1c-4941-ebea-742076ac3b33",
    "scrolled": true
   },
   "outputs": [
    {
     "data": {
      "text/plain": [
       "<matplotlib.axes._subplots.AxesSubplot at 0x1e156786308>"
      ]
     },
     "execution_count": 34,
     "metadata": {},
     "output_type": "execute_result"
    },
    {
     "data": {
      "image/png": "[encoded data removed]",
      "text/plain": [
       "<Figure size 1296x360 with 1 Axes>"
      ]
     },
     "metadata": {
      "needs_background": "light"
     },
     "output_type": "display_data"
    }
   ],
   "source": [
    "figure,ax1 = plt.subplots()\n",
    "figure.set_size_inches(18,5) \n",
    "\n",
    "sns.pointplot(data=df,x=\"apartment_build_year\",y=\"amount\",ax=ax1)"
   ]
  },
  {
   "cell_type": "code",
   "execution_count": 35,
   "metadata": {
    "colab": {
     "base_uri": "https://localhost:8080/",
     "height": 420
    },
    "colab_type": "code",
    "executionInfo": {
     "elapsed": 40501,
     "status": "ok",
     "timestamp": 1589015475455,
     "user": {
      "displayName": "조유림",
      "photoUrl": "",
      "userId": "08560563219995702049"
     },
     "user_tz": -540
    },
    "id": "pl_d6K-7fsr8",
    "outputId": "868fd5a3-5fb9-4bbb-d834-0ea09ddd0bcb"
   },
   "outputs": [
    {
     "data": {
      "text/plain": [
       "<matplotlib.axes._subplots.AxesSubplot at 0x1e15d145848>"
      ]
     },
     "execution_count": 35,
     "metadata": {},
     "output_type": "execute_result"
    },
    {
     "data": {
      "image/png": "[encoded data removed]",
      "text/plain": [
       "<Figure size 1296x432 with 2 Axes>"
      ]
     },
     "metadata": {
      "needs_background": "light"
     },
     "output_type": "display_data"
    }
   ],
   "source": [
    "df['apartment_build_year'] = df['apartment_build_year'].apply(lambda x : x - x%10)\n",
    "a = df['apartment_build_year'].value_counts()\n",
    "a = pd.DataFrame(a)\n",
    "a.reset_index(inplace=True)\n",
    "a.rename(columns={'index':'apartment_build_year','apartment_build_year':'count'},inplace=True)\n",
    "\n",
    "\n",
    "figure,(ax1,ax2) = plt.subplots(nrows=1,ncols=2)\n",
    "figure.set_size_inches(18,6) \n",
    "\n",
    "sns.barplot(data=df,x=\"apartment_build_year\",y=\"amount\",ax=ax1)\n",
    "sns.barplot(data=a,x=\"apartment_build_year\",y=\"count\",ax=ax2)"
   ]
  },
  {
   "cell_type": "markdown",
   "metadata": {
    "colab_type": "text",
    "id": "NNkUSs_FjdwE"
   },
   "source": [
    "- 1970, 2020년대에 지어진 아파트의 수가 적은거에 비해 amount의 평균이 높다\n",
    "- 2000년대에 가장 많이 아파트가 지어졌지만, 그에 비해 amount의 평균이 낮음\n",
    "- 아파트 건축 연도를 일의 자리 수 제외하고 새롭게 설정"
   ]
  },
  {
   "cell_type": "code",
   "execution_count": 36,
   "metadata": {
    "colab": {},
    "colab_type": "code",
    "id": "57SLI4jMkyRC"
   },
   "outputs": [],
   "source": [
    "df = df.drop(df[df.apartment_build_year==1930].index) #1930년에 지어진 아파트 제거"
   ]
  },
  {
   "cell_type": "code",
   "execution_count": 37,
   "metadata": {
    "scrolled": true
   },
   "outputs": [
    {
     "data": {
      "text/plain": [
       "<matplotlib.axes._subplots.AxesSubplot at 0x1e15c5cc448>"
      ]
     },
     "execution_count": 37,
     "metadata": {},
     "output_type": "execute_result"
    },
    {
     "data": {
      "image/png": "[encoded data removed]",
      "text/plain": [
       "<Figure size 1296x432 with 1 Axes>"
      ]
     },
     "metadata": {
      "needs_background": "light"
     },
     "output_type": "display_data"
    }
   ],
   "source": [
    "figure,ax = plt.subplots()\n",
    "figure.set_size_inches(18,6) \n",
    "\n",
    "sns.barplot(data=df,x=\"apartment_build_month\",y=\"amount\")"
   ]
  },
  {
   "cell_type": "markdown",
   "metadata": {},
   "source": [
    "- apartment_build_month 제거"
   ]
  },
  {
   "cell_type": "markdown",
   "metadata": {
    "colab_type": "text",
    "id": "GMm4GNbUpWTt"
   },
   "source": [
    "# 지하철역"
   ]
  },
  {
   "cell_type": "code",
   "execution_count": 38,
   "metadata": {
    "colab": {
     "base_uri": "https://localhost:8080/",
     "height": 34
    },
    "colab_type": "code",
    "executionInfo": {
     "elapsed": 40494,
     "status": "ok",
     "timestamp": 1589015475457,
     "user": {
      "displayName": "조유림",
      "photoUrl": "",
      "userId": "08560563219995702049"
     },
     "user_tz": -540
    },
    "id": "bqZK6eYltylP",
    "outputId": "e2889471-fd21-498a-c000-2a5a16ee5dfb"
   },
   "outputs": [
    {
     "data": {
      "text/plain": [
       "296"
      ]
     },
     "execution_count": 38,
     "metadata": {},
     "output_type": "execute_result"
    }
   ],
   "source": [
    "df['st_name'].nunique()"
   ]
  },
  {
   "cell_type": "code",
   "execution_count": 39,
   "metadata": {
    "colab": {
     "base_uri": "https://localhost:8080/",
     "height": 910
    },
    "colab_type": "code",
    "executionInfo": {
     "elapsed": 56445,
     "status": "ok",
     "timestamp": 1589015491414,
     "user": {
      "displayName": "조유림",
      "photoUrl": "",
      "userId": "08560563219995702049"
     },
     "user_tz": -540
    },
    "id": "58_yCA52paDB",
    "outputId": "468fdd40-437f-4857-d336-ed0bb2e64bb8"
   },
   "outputs": [
    {
     "data": {
      "text/plain": [
       "<matplotlib.axes._subplots.AxesSubplot at 0x1e15bb32b48>"
      ]
     },
     "execution_count": 39,
     "metadata": {},
     "output_type": "execute_result"
    },
    {
     "data": {
      "image/png": "[encoded data removed]",
      "text/plain": [
       "<Figure size 1296x720 with 2 Axes>"
      ]
     },
     "metadata": {
      "needs_background": "light"
     },
     "output_type": "display_data"
    }
   ],
   "source": [
    "figure,(ax1,ax2) = plt.subplots(nrows=2,ncols=1)\n",
    "figure.set_size_inches(18,10) \n",
    "\n",
    "sns.barplot(data=df,y='amount',x='st_volume',ax=ax1)\n",
    "sns.pointplot(data=df,y='amount',x='year',hue='st_volume',ax=ax2)"
   ]
  },
  {
   "cell_type": "markdown",
   "metadata": {
    "colab_type": "text",
    "id": "Tk_7lzaSqvui"
   },
   "source": [
    "- 환승역이 4개인 곳의 실거래가가 2014년도 이후부터 꾸준히 증가\n",
    "- 환승역의 개수 별 거래액이 큰 차이를 보이지 않는다 > 제거 "
   ]
  },
  {
   "cell_type": "code",
   "execution_count": 40,
   "metadata": {
    "colab": {
     "base_uri": "https://localhost:8080/",
     "height": 638
    },
    "colab_type": "code",
    "executionInfo": {
     "elapsed": 56440,
     "status": "ok",
     "timestamp": 1589015491415,
     "user": {
      "displayName": "조유림",
      "photoUrl": "",
      "userId": "08560563219995702049"
     },
     "user_tz": -540
    },
    "id": "z-MekPtXt5NZ",
    "outputId": "288d8620-32f0-4ab2-e758-2e96160f434c"
   },
   "outputs": [
    {
     "data": {
      "text/plain": [
       "<matplotlib.axes._subplots.AxesSubplot at 0x1e15a72cb88>"
      ]
     },
     "execution_count": 40,
     "metadata": {},
     "output_type": "execute_result"
    },
    {
     "data": {
      "image/png": "[encoded data removed]",
      "text/plain": [
       "<Figure size 720x720 with 1 Axes>"
      ]
     },
     "metadata": {
      "needs_background": "light"
     },
     "output_type": "display_data"
    }
   ],
   "source": [
    "#지하철역과의 거리\n",
    "a = df.groupby('st_dist').mean()['amount']\n",
    "a = pd.DataFrame(a).reset_index()\n",
    "\n",
    "figure,ax1 = plt.subplots()\n",
    "figure.set_size_inches(10,10) \n",
    "\n",
    "sns.regplot(x=\"st_dist\",y=\"amount\",data=a,color=\"m\",ax=ax1)"
   ]
  },
  {
   "cell_type": "markdown",
   "metadata": {
    "colab_type": "text",
    "id": "27dv5vq5yBcH"
   },
   "source": [
    "- 가까운 역까지의 거리와 거래액은 음의 상관관계를 보인다 \n",
    "- 이번에는 거리를 구간별로 나눠서 살펴보자"
   ]
  },
  {
   "cell_type": "code",
   "execution_count": 41,
   "metadata": {
    "colab": {
     "base_uri": "https://localhost:8080/",
     "height": 366
    },
    "colab_type": "code",
    "executionInfo": {
     "elapsed": 56435,
     "status": "ok",
     "timestamp": 1589015491416,
     "user": {
      "displayName": "조유림",
      "photoUrl": "",
      "userId": "08560563219995702049"
     },
     "user_tz": -540
    },
    "id": "zIIxk6uK8QJQ",
    "outputId": "7cd80426-f9a7-419f-96ac-f38ab39f6793"
   },
   "outputs": [
    {
     "data": {
      "text/plain": [
       "<matplotlib.axes._subplots.AxesSubplot at 0x1e15a064308>"
      ]
     },
     "execution_count": 41,
     "metadata": {},
     "output_type": "execute_result"
    },
    {
     "data": {
      "image/png": "[encoded data removed]",
      "text/plain": [
       "<Figure size 1296x360 with 1 Axes>"
      ]
     },
     "metadata": {
      "needs_background": "light"
     },
     "output_type": "display_data"
    }
   ],
   "source": [
    "factor = pd.cut(df.st_dist,7)\n",
    "a = df.amount.groupby(factor).mean()\n",
    "a = pd.DataFrame(a)\n",
    "a = a.reset_index()\n",
    "\n",
    "figure,ax1 = plt.subplots()\n",
    "figure.set_size_inches(18,5) \n",
    "\n",
    "sns.barplot(data=a,x=\"st_dist\",y=\"amount\",ax=ax1)"
   ]
  },
  {
   "cell_type": "markdown",
   "metadata": {
    "colab_type": "text",
    "id": "HgFEN4L4CXd2"
   },
   "source": [
    "- 거리가 0.0247 이하인 경우 지하철역에서 거리가 가까울수록 거래가가 비싸지만, 0.0247보다 큰 경우에는 양의 상관관계를 보인다\n",
    "- 지하철역과 거리가 가장 먼 곳이 가장 높은 평균 거래가를 갖는다(평창동?을 예로 들 수 있을거 같다..자가용 이용..)"
   ]
  },
  {
   "cell_type": "code",
   "execution_count": 42,
   "metadata": {
    "colab": {
     "base_uri": "https://localhost:8080/",
     "height": 300
    },
    "colab_type": "code",
    "executionInfo": {
     "elapsed": 1515,
     "status": "ok",
     "timestamp": 1589016186183,
     "user": {
      "displayName": "조유림",
      "photoUrl": "",
      "userId": "08560563219995702049"
     },
     "user_tz": -540
    },
    "id": "7FaybB2UvP5g",
    "outputId": "0b7178ac-7a24-4c3c-f99a-5ea3ddb23a5a"
   },
   "outputs": [
    {
     "data": {
      "text/html": [
       "<div>\n",
       "<style scoped>\n",
       "    .dataframe tbody tr th:only-of-type {\n",
       "        vertical-align: middle;\n",
       "    }\n",
       "\n",
       "    .dataframe tbody tr th {\n",
       "        vertical-align: top;\n",
       "    }\n",
       "\n",
       "    .dataframe thead th {\n",
       "        text-align: right;\n",
       "    }\n",
       "</style>\n",
       "<table border=\"1\" class=\"dataframe\">\n",
       "  <thead>\n",
       "    <tr style=\"text-align: right;\">\n",
       "      <th></th>\n",
       "      <th>apartment_id</th>\n",
       "      <th>area</th>\n",
       "      <th>period</th>\n",
       "      <th>year</th>\n",
       "      <th>month</th>\n",
       "      <th>amount</th>\n",
       "      <th>amount_original</th>\n",
       "      <th>district_id</th>\n",
       "      <th>apartment_addr_town</th>\n",
       "      <th>apartment_builder</th>\n",
       "      <th>...</th>\n",
       "      <th>district_name</th>\n",
       "      <th>school_name</th>\n",
       "      <th>school_dist</th>\n",
       "      <th>school_addr_district</th>\n",
       "      <th>school_addr_town</th>\n",
       "      <th>school_students</th>\n",
       "      <th>st_name</th>\n",
       "      <th>st_dist</th>\n",
       "      <th>st_volume</th>\n",
       "      <th>apartment_parking_floor</th>\n",
       "    </tr>\n",
       "  </thead>\n",
       "  <tbody>\n",
       "    <tr>\n",
       "      <th>436478</th>\n",
       "      <td>3826</td>\n",
       "      <td>111</td>\n",
       "      <td>2019.01</td>\n",
       "      <td>2019</td>\n",
       "      <td>1</td>\n",
       "      <td>575000000</td>\n",
       "      <td>5억 7,500</td>\n",
       "      <td>23</td>\n",
       "      <td>평창동</td>\n",
       "      <td>롯데건설주식회사</td>\n",
       "      <td>...</td>\n",
       "      <td>종로구</td>\n",
       "      <td>서울세검정초등학교</td>\n",
       "      <td>24</td>\n",
       "      <td>23</td>\n",
       "      <td>세검정로9길</td>\n",
       "      <td>864.0</td>\n",
       "      <td>경복궁역</td>\n",
       "      <td>0.033561</td>\n",
       "      <td>1</td>\n",
       "      <td>1.0</td>\n",
       "    </tr>\n",
       "    <tr>\n",
       "      <th>436479</th>\n",
       "      <td>3826</td>\n",
       "      <td>111</td>\n",
       "      <td>2018.03</td>\n",
       "      <td>2018</td>\n",
       "      <td>3</td>\n",
       "      <td>570000000</td>\n",
       "      <td>5억 7,000</td>\n",
       "      <td>23</td>\n",
       "      <td>평창동</td>\n",
       "      <td>롯데건설주식회사</td>\n",
       "      <td>...</td>\n",
       "      <td>종로구</td>\n",
       "      <td>서울세검정초등학교</td>\n",
       "      <td>24</td>\n",
       "      <td>23</td>\n",
       "      <td>세검정로9길</td>\n",
       "      <td>864.0</td>\n",
       "      <td>경복궁역</td>\n",
       "      <td>0.033561</td>\n",
       "      <td>1</td>\n",
       "      <td>1.0</td>\n",
       "    </tr>\n",
       "    <tr>\n",
       "      <th>436480</th>\n",
       "      <td>3826</td>\n",
       "      <td>111</td>\n",
       "      <td>2017.10</td>\n",
       "      <td>2017</td>\n",
       "      <td>10</td>\n",
       "      <td>500000000</td>\n",
       "      <td>5억</td>\n",
       "      <td>23</td>\n",
       "      <td>평창동</td>\n",
       "      <td>롯데건설주식회사</td>\n",
       "      <td>...</td>\n",
       "      <td>종로구</td>\n",
       "      <td>서울세검정초등학교</td>\n",
       "      <td>24</td>\n",
       "      <td>23</td>\n",
       "      <td>세검정로9길</td>\n",
       "      <td>864.0</td>\n",
       "      <td>경복궁역</td>\n",
       "      <td>0.033561</td>\n",
       "      <td>1</td>\n",
       "      <td>1.0</td>\n",
       "    </tr>\n",
       "    <tr>\n",
       "      <th>436481</th>\n",
       "      <td>3826</td>\n",
       "      <td>111</td>\n",
       "      <td>2017.08</td>\n",
       "      <td>2017</td>\n",
       "      <td>8</td>\n",
       "      <td>509999999</td>\n",
       "      <td>5억 1,000</td>\n",
       "      <td>23</td>\n",
       "      <td>평창동</td>\n",
       "      <td>롯데건설주식회사</td>\n",
       "      <td>...</td>\n",
       "      <td>종로구</td>\n",
       "      <td>서울세검정초등학교</td>\n",
       "      <td>24</td>\n",
       "      <td>23</td>\n",
       "      <td>세검정로9길</td>\n",
       "      <td>864.0</td>\n",
       "      <td>경복궁역</td>\n",
       "      <td>0.033561</td>\n",
       "      <td>1</td>\n",
       "      <td>1.0</td>\n",
       "    </tr>\n",
       "    <tr>\n",
       "      <th>436482</th>\n",
       "      <td>3826</td>\n",
       "      <td>111</td>\n",
       "      <td>2017.06</td>\n",
       "      <td>2017</td>\n",
       "      <td>6</td>\n",
       "      <td>529000000</td>\n",
       "      <td>5억 2,900</td>\n",
       "      <td>23</td>\n",
       "      <td>평창동</td>\n",
       "      <td>롯데건설주식회사</td>\n",
       "      <td>...</td>\n",
       "      <td>종로구</td>\n",
       "      <td>서울세검정초등학교</td>\n",
       "      <td>24</td>\n",
       "      <td>23</td>\n",
       "      <td>세검정로9길</td>\n",
       "      <td>864.0</td>\n",
       "      <td>경복궁역</td>\n",
       "      <td>0.033561</td>\n",
       "      <td>1</td>\n",
       "      <td>1.0</td>\n",
       "    </tr>\n",
       "  </tbody>\n",
       "</table>\n",
       "<p>5 rows × 26 columns</p>\n",
       "</div>"
      ],
      "text/plain": [
       "        apartment_id  area   period  year  month     amount amount_original  \\\n",
       "436478          3826   111  2019.01  2019      1  575000000        5억 7,500   \n",
       "436479          3826   111  2018.03  2018      3  570000000        5억 7,000   \n",
       "436480          3826   111  2017.10  2017     10  500000000              5억   \n",
       "436481          3826   111  2017.08  2017      8  509999999        5억 1,000   \n",
       "436482          3826   111  2017.06  2017      6  529000000        5억 2,900   \n",
       "\n",
       "        district_id apartment_addr_town apartment_builder  ...  district_name  \\\n",
       "436478           23                 평창동          롯데건설주식회사  ...            종로구   \n",
       "436479           23                 평창동          롯데건설주식회사  ...            종로구   \n",
       "436480           23                 평창동          롯데건설주식회사  ...            종로구   \n",
       "436481           23                 평창동          롯데건설주식회사  ...            종로구   \n",
       "436482           23                 평창동          롯데건설주식회사  ...            종로구   \n",
       "\n",
       "        school_name school_dist school_addr_district  school_addr_town  \\\n",
       "436478    서울세검정초등학교          24                   23            세검정로9길   \n",
       "436479    서울세검정초등학교          24                   23            세검정로9길   \n",
       "436480    서울세검정초등학교          24                   23            세검정로9길   \n",
       "436481    서울세검정초등학교          24                   23            세검정로9길   \n",
       "436482    서울세검정초등학교          24                   23            세검정로9길   \n",
       "\n",
       "       school_students st_name   st_dist  st_volume  apartment_parking_floor  \n",
       "436478           864.0    경복궁역  0.033561          1                      1.0  \n",
       "436479           864.0    경복궁역  0.033561          1                      1.0  \n",
       "436480           864.0    경복궁역  0.033561          1                      1.0  \n",
       "436481           864.0    경복궁역  0.033561          1                      1.0  \n",
       "436482           864.0    경복궁역  0.033561          1                      1.0  \n",
       "\n",
       "[5 rows x 26 columns]"
      ]
     },
     "execution_count": 42,
     "metadata": {},
     "output_type": "execute_result"
    }
   ],
   "source": [
    "df[df['st_dist']>0.0296].head()"
   ]
  },
  {
   "cell_type": "markdown",
   "metadata": {
    "colab_type": "text",
    "id": "KGyXrvpavvOR"
   },
   "source": [
    "- 실제로 아파트와 지하철과의 거리가 0.0296보다 먼 동네는 평창동이었다.."
   ]
  },
  {
   "cell_type": "markdown",
   "metadata": {},
   "source": [
    "- 'apartment_build_month' 'school_name' 'school_addr_district' 'school_addr_town' 'st_name' 'apartment_floor_min', 'apartment_floor_max' 'apartment_parking' 'st_volume' >> 제거"
   ]
  },
  {
   "cell_type": "code",
   "execution_count": 43,
   "metadata": {},
   "outputs": [
    {
     "data": {
      "text/html": [
       "<div>\n",
       "<style scoped>\n",
       "    .dataframe tbody tr th:only-of-type {\n",
       "        vertical-align: middle;\n",
       "    }\n",
       "\n",
       "    .dataframe tbody tr th {\n",
       "        vertical-align: top;\n",
       "    }\n",
       "\n",
       "    .dataframe thead th {\n",
       "        text-align: right;\n",
       "    }\n",
       "</style>\n",
       "<table border=\"1\" class=\"dataframe\">\n",
       "  <thead>\n",
       "    <tr style=\"text-align: right;\">\n",
       "      <th></th>\n",
       "      <th>apartment_id</th>\n",
       "      <th>area</th>\n",
       "      <th>year</th>\n",
       "      <th>month</th>\n",
       "      <th>amount</th>\n",
       "      <th>amount_original</th>\n",
       "      <th>district_id</th>\n",
       "      <th>apartment_addr_town</th>\n",
       "      <th>apartment_builder</th>\n",
       "      <th>apartment_build_year</th>\n",
       "      <th>apartment_parking</th>\n",
       "      <th>apartment_name</th>\n",
       "      <th>district_name</th>\n",
       "      <th>school_dist</th>\n",
       "      <th>school_students</th>\n",
       "      <th>st_dist</th>\n",
       "      <th>apartment_parking_floor</th>\n",
       "    </tr>\n",
       "  </thead>\n",
       "  <tbody>\n",
       "    <tr>\n",
       "      <th>0</th>\n",
       "      <td>8928</td>\n",
       "      <td>160</td>\n",
       "      <td>2020</td>\n",
       "      <td>2</td>\n",
       "      <td>2060000000</td>\n",
       "      <td>20억 6,000</td>\n",
       "      <td>1</td>\n",
       "      <td>개포동</td>\n",
       "      <td>LG건설(주)</td>\n",
       "      <td>2000</td>\n",
       "      <td>2.36</td>\n",
       "      <td>LG개포자이</td>\n",
       "      <td>강남구</td>\n",
       "      <td>1</td>\n",
       "      <td>316.0</td>\n",
       "      <td>0.002592</td>\n",
       "      <td>2.0</td>\n",
       "    </tr>\n",
       "    <tr>\n",
       "      <th>1</th>\n",
       "      <td>8928</td>\n",
       "      <td>160</td>\n",
       "      <td>2020</td>\n",
       "      <td>1</td>\n",
       "      <td>2030000000</td>\n",
       "      <td>20억 3,000</td>\n",
       "      <td>1</td>\n",
       "      <td>개포동</td>\n",
       "      <td>LG건설(주)</td>\n",
       "      <td>2000</td>\n",
       "      <td>2.36</td>\n",
       "      <td>LG개포자이</td>\n",
       "      <td>강남구</td>\n",
       "      <td>1</td>\n",
       "      <td>316.0</td>\n",
       "      <td>0.002592</td>\n",
       "      <td>2.0</td>\n",
       "    </tr>\n",
       "    <tr>\n",
       "      <th>2</th>\n",
       "      <td>8928</td>\n",
       "      <td>160</td>\n",
       "      <td>2019</td>\n",
       "      <td>11</td>\n",
       "      <td>1950000000</td>\n",
       "      <td>19억 5,000</td>\n",
       "      <td>1</td>\n",
       "      <td>개포동</td>\n",
       "      <td>LG건설(주)</td>\n",
       "      <td>2000</td>\n",
       "      <td>2.36</td>\n",
       "      <td>LG개포자이</td>\n",
       "      <td>강남구</td>\n",
       "      <td>1</td>\n",
       "      <td>316.0</td>\n",
       "      <td>0.002592</td>\n",
       "      <td>2.0</td>\n",
       "    </tr>\n",
       "    <tr>\n",
       "      <th>3</th>\n",
       "      <td>8928</td>\n",
       "      <td>160</td>\n",
       "      <td>2019</td>\n",
       "      <td>10</td>\n",
       "      <td>1939999999</td>\n",
       "      <td>19억 4,000</td>\n",
       "      <td>1</td>\n",
       "      <td>개포동</td>\n",
       "      <td>LG건설(주)</td>\n",
       "      <td>2000</td>\n",
       "      <td>2.36</td>\n",
       "      <td>LG개포자이</td>\n",
       "      <td>강남구</td>\n",
       "      <td>1</td>\n",
       "      <td>316.0</td>\n",
       "      <td>0.002592</td>\n",
       "      <td>2.0</td>\n",
       "    </tr>\n",
       "    <tr>\n",
       "      <th>4</th>\n",
       "      <td>8928</td>\n",
       "      <td>160</td>\n",
       "      <td>2019</td>\n",
       "      <td>7</td>\n",
       "      <td>1739999999</td>\n",
       "      <td>17억 4,000</td>\n",
       "      <td>1</td>\n",
       "      <td>개포동</td>\n",
       "      <td>LG건설(주)</td>\n",
       "      <td>2000</td>\n",
       "      <td>2.36</td>\n",
       "      <td>LG개포자이</td>\n",
       "      <td>강남구</td>\n",
       "      <td>1</td>\n",
       "      <td>316.0</td>\n",
       "      <td>0.002592</td>\n",
       "      <td>2.0</td>\n",
       "    </tr>\n",
       "  </tbody>\n",
       "</table>\n",
       "</div>"
      ],
      "text/plain": [
       "   apartment_id  area  year  month      amount amount_original  district_id  \\\n",
       "0          8928   160  2020      2  2060000000       20억 6,000            1   \n",
       "1          8928   160  2020      1  2030000000       20억 3,000            1   \n",
       "2          8928   160  2019     11  1950000000       19억 5,000            1   \n",
       "3          8928   160  2019     10  1939999999       19억 4,000            1   \n",
       "4          8928   160  2019      7  1739999999       17억 4,000            1   \n",
       "\n",
       "  apartment_addr_town apartment_builder  apartment_build_year  \\\n",
       "0                 개포동           LG건설(주)                  2000   \n",
       "1                 개포동           LG건설(주)                  2000   \n",
       "2                 개포동           LG건설(주)                  2000   \n",
       "3                 개포동           LG건설(주)                  2000   \n",
       "4                 개포동           LG건설(주)                  2000   \n",
       "\n",
       "   apartment_parking apartment_name district_name  school_dist  \\\n",
       "0               2.36         LG개포자이           강남구            1   \n",
       "1               2.36         LG개포자이           강남구            1   \n",
       "2               2.36         LG개포자이           강남구            1   \n",
       "3               2.36         LG개포자이           강남구            1   \n",
       "4               2.36         LG개포자이           강남구            1   \n",
       "\n",
       "   school_students   st_dist  apartment_parking_floor  \n",
       "0            316.0  0.002592                      2.0  \n",
       "1            316.0  0.002592                      2.0  \n",
       "2            316.0  0.002592                      2.0  \n",
       "3            316.0  0.002592                      2.0  \n",
       "4            316.0  0.002592                      2.0  "
      ]
     },
     "execution_count": 43,
     "metadata": {},
     "output_type": "execute_result"
    }
   ],
   "source": [
    "df = df.drop(['apartment_build_month','school_name','school_addr_district','school_addr_town','st_name','apartment_floor_min','apartment_floor_max','st_volume','period'],axis=1)\n",
    "df.head()"
   ]
  }
 ],
 "metadata": {
  "accelerator": "GPU",
  "colab": {
   "authorship_tag": "ABX9TyNtkgsbR9DVZYsUavFzZmTR",
   "collapsed_sections": [
    "SD32Qdw5kAfo",
    "9s67se6EoCUd",
    "I-PJ3h2csVtn",
    "g4PyZ0sXFpC1",
    "YN8UpIsjkJsd",
    "GMm4GNbUpWTt"
   ],
   "machine_shape": "hm",
   "name": "EDA",
   "provenance": []
  },
  "kernelspec": {
   "display_name": "Python 3",
   "language": "python",
   "name": "python3"
  },
  "language_info": {
   "codemirror_mode": {
    "name": "ipython",
    "version": 3
   },
   "file_extension": ".py",
   "mimetype": "text/x-python",
   "name": "python",
   "nbconvert_exporter": "python",
   "pygments_lexer": "ipython3",
   "version": "3.7.6"
  }
 },
 "nbformat": 4,
 "nbformat_minor": 1
}
